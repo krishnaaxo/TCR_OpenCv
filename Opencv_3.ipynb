{
  "cells": [
    {
      "cell_type": "markdown",
      "metadata": {
        "id": "view-in-github",
        "colab_type": "text"
      },
      "source": [
        "<a href=\"https://colab.research.google.com/github/krishnaaxo/TCR_OpenCv/blob/main/Opencv_3.ipynb\" target=\"_parent\"><img src=\"https://colab.research.google.com/assets/colab-badge.svg\" alt=\"Open In Colab\"/></a>"
      ]
    },
    {
      "cell_type": "code",
      "source": [
        "from google.colab import drive\n",
        "drive.mount('/content/drive')"
      ],
      "metadata": {
        "id": "Ckz40vu8of0q",
        "outputId": "9a96813b-f140-45dd-90c5-a3dce2b6f734",
        "colab": {
          "base_uri": "https://localhost:8080/"
        }
      },
      "id": "Ckz40vu8of0q",
      "execution_count": 1,
      "outputs": [
        {
          "output_type": "stream",
          "name": "stdout",
          "text": [
            "Mounted at /content/drive\n"
          ]
        }
      ]
    },
    {
      "cell_type": "code",
      "execution_count": null,
      "id": "9d11346e",
      "metadata": {
        "id": "9d11346e"
      },
      "outputs": [],
      "source": [
        "import cv2 as cv2\n",
        "import numpy as np\n",
        "import pandas as pd \n"
      ]
    },
    {
      "cell_type": "code",
      "execution_count": null,
      "id": "5ab008a7",
      "metadata": {
        "id": "5ab008a7",
        "outputId": "fdee8456-9c16-40ae-ea02-d88474b02738"
      },
      "outputs": [
        {
          "data": {
            "text/plain": [
              "-1"
            ]
          },
          "execution_count": 10,
          "metadata": {},
          "output_type": "execute_result"
        }
      ],
      "source": [
        "img = cv2.imread(r\"C:\\Users\\USER\\Downloads\\MLI\\park.jpg\")\n",
        "cv2.imshow(\"img\", img)\n",
        "\n",
        "gra = cv2.cvtColor(img, cv2.COLOR_BGR2GRAY)\n",
        "cv2.imshow(\"gray Scale\", gra)\n",
        "\n",
        "bgr = cv2.cvtColor(img, cv2.COLOR_RGB2BGR)\n",
        "cv2.imshow('bgr', bgr)\n",
        "\n",
        "hsv  = cv2.cvtColor(img, cv2.COLOR_BGR2HSV)\n",
        "cv2.imshow('hsv', hsv)\n",
        "\n",
        "lab = cv2.cvtColor(img, cv2.COLOR_BGR2LAB)\n",
        "cv2.imshow('lab', lab)\n",
        "\n",
        "yuv = cv2.cvtColor(img, cv2.COLOR_BGR2YUV)\n",
        "cv2.imshow('YUV', yuv)\n",
        "\n",
        "cv2.waitKey(0)"
      ]
    },
    {
      "cell_type": "code",
      "execution_count": null,
      "id": "01f74fca",
      "metadata": {
        "id": "01f74fca",
        "outputId": "f75daa34-7319-49f6-efe8-b38c6aedc4ad"
      },
      "outputs": [
        {
          "data": {
            "text/plain": [
              "(array([  706.,   221.,   316.,   446.,   545.,   954.,   980.,   965.,\n",
              "         1455.,  1306.,  1514.,  2436.,  3032.,  5546.,  5589.,  7778.,\n",
              "         9077., 12121., 12405., 12260., 11472.,  8715., 10411.,  6728.,\n",
              "         8795.,  4495.,  7959.,  5489.,  5129.,  5069.,  4662.,  3161.,\n",
              "         3400.,  3932.,  3161.,  4410.,  2809.,  3169.,  2101.,  2211.,\n",
              "         1425.,  1087.,  1260.,  1295.,  1178.,  1304.,  1361.,  1398.,\n",
              "         1451.,  1289.,  1527.,  1617.,  1609.,  1547.,  1599.,  1744.,\n",
              "         1665.,  1749.,  1624.,  1729.,  1823.,  1731.,  1775.,  1940.,\n",
              "         1875.,  1868.,  1998.,  1915.,  2181.,  2149.,  2242.,  2279.,\n",
              "         2356.,  2391.,  2602.,  2989.,  2867.,  2897.,  3208.,  3237.,\n",
              "         3551.,  3392.,  3506.,  3751.,  3589.,  4052.,  3546.,  4806.,\n",
              "         4010.,  4130.,  4427.,  4083.,  4069.,  4441.,  4585.,  4910.,\n",
              "         4889.,  4854.,  5136.,  5616.,  6058.,  6891.,  7362., 11783.,\n",
              "        23579., 30131., 26133., 19857.,  9193.,  4762.,  4185.,  4148.,\n",
              "         3485.,  3573.,  3288.,  3343.,  3492.,  2960.,  2793.,  2698.,\n",
              "         3115.,  2612.,  2685.,  2689.,  2460.,  2641.,  2774.,  2317.,\n",
              "         2512.,  2521.,  2400.,  2335.,  2467.,  2386.,  2271.,  2349.,\n",
              "         2083.,  1927.,  2022.,  1938.,  1951.,  1822.,  1793.,  1816.,\n",
              "         1662.,  1697.,  1704.,  1551.,  1581.,  1650.,  1517.,  1401.,\n",
              "         1422.,  1446.,  1429.,  1465.,  1495.,  1354.,  1454.,  1445.,\n",
              "         1280.,  1404.,  1390.,  1379.,  1570.,  1565.,  1404.,  1334.,\n",
              "         1363.,  1174.,  1767.,  1045.,  1281.,  1242.,  1454.,  1200.,\n",
              "         1225.,  1368.,  1017.,  1475.,   985.,  1032.,  1085.,   958.,\n",
              "         1011.,  1046.,   818.,   837.,   888.,   702.,   789.,   944.,\n",
              "          655.,   831.,   753.,   768.,   689.,   770.,   804.,   680.,\n",
              "          795.,   734.,   738.,   779.,   776.,   934.,  1494.,  2012.,\n",
              "         2282.,  2920.,  4005.,  4832.,  5246.,  6411.,  8465., 10981.,\n",
              "        12980., 12434., 10557.,  8406.,  5881.,  4257.,  2877.,  1889.,\n",
              "         1428.,  1141.,   910.,   889.,   863.,   845.,   859.,   791.,\n",
              "          811.,   929.,   894.,   857.,   882.,   951.,   912.,   903.,\n",
              "          992.,   839.,   957.,   925.,   833.,  1028.,   984.,   878.,\n",
              "         1029.,  1115.,   759.,   899.,  1239.,   740.,   144., 27020.]),\n",
              " array([  0.,   1.,   2.,   3.,   4.,   5.,   6.,   7.,   8.,   9.,  10.,\n",
              "         11.,  12.,  13.,  14.,  15.,  16.,  17.,  18.,  19.,  20.,  21.,\n",
              "         22.,  23.,  24.,  25.,  26.,  27.,  28.,  29.,  30.,  31.,  32.,\n",
              "         33.,  34.,  35.,  36.,  37.,  38.,  39.,  40.,  41.,  42.,  43.,\n",
              "         44.,  45.,  46.,  47.,  48.,  49.,  50.,  51.,  52.,  53.,  54.,\n",
              "         55.,  56.,  57.,  58.,  59.,  60.,  61.,  62.,  63.,  64.,  65.,\n",
              "         66.,  67.,  68.,  69.,  70.,  71.,  72.,  73.,  74.,  75.,  76.,\n",
              "         77.,  78.,  79.,  80.,  81.,  82.,  83.,  84.,  85.,  86.,  87.,\n",
              "         88.,  89.,  90.,  91.,  92.,  93.,  94.,  95.,  96.,  97.,  98.,\n",
              "         99., 100., 101., 102., 103., 104., 105., 106., 107., 108., 109.,\n",
              "        110., 111., 112., 113., 114., 115., 116., 117., 118., 119., 120.,\n",
              "        121., 122., 123., 124., 125., 126., 127., 128., 129., 130., 131.,\n",
              "        132., 133., 134., 135., 136., 137., 138., 139., 140., 141., 142.,\n",
              "        143., 144., 145., 146., 147., 148., 149., 150., 151., 152., 153.,\n",
              "        154., 155., 156., 157., 158., 159., 160., 161., 162., 163., 164.,\n",
              "        165., 166., 167., 168., 169., 170., 171., 172., 173., 174., 175.,\n",
              "        176., 177., 178., 179., 180., 181., 182., 183., 184., 185., 186.,\n",
              "        187., 188., 189., 190., 191., 192., 193., 194., 195., 196., 197.,\n",
              "        198., 199., 200., 201., 202., 203., 204., 205., 206., 207., 208.,\n",
              "        209., 210., 211., 212., 213., 214., 215., 216., 217., 218., 219.,\n",
              "        220., 221., 222., 223., 224., 225., 226., 227., 228., 229., 230.,\n",
              "        231., 232., 233., 234., 235., 236., 237., 238., 239., 240., 241.,\n",
              "        242., 243., 244., 245., 246., 247., 248., 249., 250., 251., 252.,\n",
              "        253., 254., 255., 256.]),\n",
              " <BarContainer object of 256 artists>)"
            ]
          },
          "execution_count": 11,
          "metadata": {},
          "output_type": "execute_result"
        },
        {
          "data": {
            "image/png": "[encoded data removed]",
            "text/plain": [
              "<Figure size 432x288 with 1 Axes>"
            ]
          },
          "metadata": {
            "needs_background": "light"
          },
          "output_type": "display_data"
        }
      ],
      "source": [
        "import matplotlib.pyplot as plt \n",
        "plt.hist(hsv.ravel(), 256, [0, 256])"
      ]
    },
    {
      "cell_type": "code",
      "execution_count": null,
      "id": "0cf087d8",
      "metadata": {
        "id": "0cf087d8",
        "outputId": "c58bbc2c-b74c-4965-d71a-f594796680df"
      },
      "outputs": [
        {
          "data": {
            "text/plain": [
              "(array([1.1000e+02, 3.4500e+02, 4.8300e+02, 4.8800e+02, 0.0000e+00,\n",
              "        5.5300e+02, 5.8200e+02, 6.4600e+02, 6.8700e+02, 7.1700e+02,\n",
              "        6.2900e+02, 5.5200e+02, 6.1700e+02, 0.0000e+00, 5.4100e+02,\n",
              "        5.5000e+02, 5.1900e+02, 5.0300e+02, 4.5200e+02, 3.9900e+02,\n",
              "        4.3000e+02, 4.3000e+02, 0.0000e+00, 4.0200e+02, 4.3200e+02,\n",
              "        4.1900e+02, 4.8100e+02, 8.0700e+02, 4.3500e+02, 4.2900e+02,\n",
              "        4.0900e+02, 4.1600e+02, 4.3000e+02, 8.9600e+02, 4.4300e+02,\n",
              "        4.1300e+02, 8.7200e+02, 4.7400e+02, 9.5600e+02, 4.8700e+02,\n",
              "        1.0080e+03, 4.9800e+02, 9.9700e+02, 1.0170e+03, 4.6800e+02,\n",
              "        9.3300e+02, 1.0340e+03, 9.7500e+02, 1.0520e+03, 5.6200e+02,\n",
              "        1.0220e+03, 1.1250e+03, 1.0760e+03, 1.0720e+03, 1.5690e+03,\n",
              "        1.0730e+03, 1.0430e+03, 1.2150e+03, 1.6830e+03, 1.1510e+03,\n",
              "        1.0920e+03, 1.6470e+03, 1.2250e+03, 1.6510e+03, 1.0630e+03,\n",
              "        1.6060e+03, 1.6990e+03, 1.0800e+03, 1.7840e+03, 1.6640e+03,\n",
              "        1.7400e+03, 1.7410e+03, 1.6800e+03, 1.8780e+03, 1.8260e+03,\n",
              "        1.9830e+03, 1.8360e+03, 2.7250e+03, 1.8320e+03, 1.9810e+03,\n",
              "        2.6450e+03, 2.0620e+03, 2.5490e+03, 2.6970e+03, 2.4930e+03,\n",
              "        3.3100e+03, 4.9060e+03, 3.0680e+03, 3.6350e+03, 2.8930e+03,\n",
              "        2.9260e+03, 3.5900e+03, 3.4110e+03, 4.4490e+03, 3.8140e+03,\n",
              "        4.6440e+03, 3.8100e+03, 6.1640e+03, 6.6540e+03, 7.1080e+03,\n",
              "        7.2560e+03, 1.0835e+04, 1.1597e+04, 7.6250e+03, 7.5780e+03,\n",
              "        5.6090e+03, 5.3470e+03, 4.5600e+03, 5.0120e+03, 5.3750e+03,\n",
              "        5.1030e+03, 5.0090e+03, 5.0040e+03, 4.4600e+03, 4.8330e+03,\n",
              "        4.5000e+03, 4.1300e+03, 4.3330e+03, 3.8280e+03, 4.4400e+03,\n",
              "        6.3690e+03, 8.4280e+03, 1.1563e+04, 1.8019e+04, 2.3908e+04,\n",
              "        2.4113e+04, 2.6808e+04, 2.3302e+04, 2.5657e+04, 1.3881e+04,\n",
              "        1.3073e+04, 1.0663e+04, 9.9700e+03, 7.2580e+03, 5.6210e+03,\n",
              "        4.6200e+03, 5.7620e+03, 4.5530e+03, 5.2510e+03, 5.9880e+03,\n",
              "        7.0050e+03, 8.1010e+03, 8.7120e+03, 9.3740e+03, 9.9250e+03,\n",
              "        1.0649e+04, 1.0853e+04, 1.0485e+04, 8.2160e+03, 7.4420e+03,\n",
              "        6.7840e+03, 6.1390e+03, 5.2550e+03, 4.4970e+03, 4.6960e+03,\n",
              "        5.1230e+03, 5.5450e+03, 4.9370e+03, 4.9600e+03, 5.0920e+03,\n",
              "        5.2070e+03, 4.7090e+03, 4.1850e+03, 4.6900e+03, 4.7800e+03,\n",
              "        4.7640e+03, 5.1420e+03, 5.5520e+03, 5.8460e+03, 4.9280e+03,\n",
              "        5.0490e+03, 5.0540e+03, 5.7920e+03, 5.3060e+03, 5.2220e+03,\n",
              "        4.8670e+03, 5.1640e+03, 5.0740e+03, 4.9620e+03, 4.9190e+03,\n",
              "        4.4530e+03, 3.7540e+03, 3.2560e+03, 2.7720e+03, 2.7110e+03,\n",
              "        2.3010e+03, 2.6960e+03, 3.1180e+03, 2.4760e+03, 2.5270e+03,\n",
              "        2.2730e+03, 1.8520e+03, 1.8710e+03, 1.7120e+03, 1.7010e+03,\n",
              "        1.5180e+03, 1.4200e+03, 9.5000e+02, 1.0000e+03, 1.0080e+03,\n",
              "        8.7900e+02, 7.5500e+02, 8.9000e+02, 7.7300e+02, 7.5400e+02,\n",
              "        5.4600e+02, 3.9400e+02, 3.6400e+02, 3.0200e+02, 3.3900e+02,\n",
              "        3.5700e+02, 2.6100e+02, 1.1300e+02, 1.0800e+02, 1.0700e+02,\n",
              "        1.4200e+02, 1.3000e+02, 9.4000e+01, 7.8000e+01, 7.3000e+01,\n",
              "        7.1000e+01, 4.2000e+01, 3.1000e+01, 1.7000e+01, 8.0000e+00,\n",
              "        5.0000e+00, 7.0000e+00, 4.0000e+00, 5.0000e+00, 5.0000e+00,\n",
              "        0.0000e+00, 1.0000e+00, 2.0000e+00, 0.0000e+00, 0.0000e+00,\n",
              "        0.0000e+00, 1.0000e+00, 0.0000e+00, 0.0000e+00, 1.0000e+00,\n",
              "        0.0000e+00, 0.0000e+00, 0.0000e+00, 0.0000e+00, 0.0000e+00,\n",
              "        0.0000e+00, 0.0000e+00, 0.0000e+00, 1.0000e+00, 0.0000e+00,\n",
              "        0.0000e+00, 0.0000e+00, 0.0000e+00, 0.0000e+00, 0.0000e+00,\n",
              "        0.0000e+00]),\n",
              " array([  0.,   1.,   2.,   3.,   4.,   5.,   6.,   7.,   8.,   9.,  10.,\n",
              "         11.,  12.,  13.,  14.,  15.,  16.,  17.,  18.,  19.,  20.,  21.,\n",
              "         22.,  23.,  24.,  25.,  26.,  27.,  28.,  29.,  30.,  31.,  32.,\n",
              "         33.,  34.,  35.,  36.,  37.,  38.,  39.,  40.,  41.,  42.,  43.,\n",
              "         44.,  45.,  46.,  47.,  48.,  49.,  50.,  51.,  52.,  53.,  54.,\n",
              "         55.,  56.,  57.,  58.,  59.,  60.,  61.,  62.,  63.,  64.,  65.,\n",
              "         66.,  67.,  68.,  69.,  70.,  71.,  72.,  73.,  74.,  75.,  76.,\n",
              "         77.,  78.,  79.,  80.,  81.,  82.,  83.,  84.,  85.,  86.,  87.,\n",
              "         88.,  89.,  90.,  91.,  92.,  93.,  94.,  95.,  96.,  97.,  98.,\n",
              "         99., 100., 101., 102., 103., 104., 105., 106., 107., 108., 109.,\n",
              "        110., 111., 112., 113., 114., 115., 116., 117., 118., 119., 120.,\n",
              "        121., 122., 123., 124., 125., 126., 127., 128., 129., 130., 131.,\n",
              "        132., 133., 134., 135., 136., 137., 138., 139., 140., 141., 142.,\n",
              "        143., 144., 145., 146., 147., 148., 149., 150., 151., 152., 153.,\n",
              "        154., 155., 156., 157., 158., 159., 160., 161., 162., 163., 164.,\n",
              "        165., 166., 167., 168., 169., 170., 171., 172., 173., 174., 175.,\n",
              "        176., 177., 178., 179., 180., 181., 182., 183., 184., 185., 186.,\n",
              "        187., 188., 189., 190., 191., 192., 193., 194., 195., 196., 197.,\n",
              "        198., 199., 200., 201., 202., 203., 204., 205., 206., 207., 208.,\n",
              "        209., 210., 211., 212., 213., 214., 215., 216., 217., 218., 219.,\n",
              "        220., 221., 222., 223., 224., 225., 226., 227., 228., 229., 230.,\n",
              "        231., 232., 233., 234., 235., 236., 237., 238., 239., 240., 241.,\n",
              "        242., 243., 244., 245., 246., 247., 248., 249., 250., 251., 252.,\n",
              "        253., 254., 255., 256.]),\n",
              " <BarContainer object of 256 artists>)"
            ]
          },
          "execution_count": 12,
          "metadata": {},
          "output_type": "execute_result"
        },
        {
          "data": {
            "image/png": "[encoded data removed]",
            "text/plain": [
              "<Figure size 432x288 with 1 Axes>"
            ]
          },
          "metadata": {
            "needs_background": "light"
          },
          "output_type": "display_data"
        }
      ],
      "source": [
        "plt.hist(lab.ravel(), 256, [0, 256])"
      ]
    },
    {
      "cell_type": "code",
      "execution_count": null,
      "id": "8c372fe4",
      "metadata": {
        "id": "8c372fe4",
        "outputId": "4a93e969-d5ac-4dd0-c7cc-8aef0ae3774d"
      },
      "outputs": [
        {
          "data": {
            "text/plain": [
              "-1"
            ]
          },
          "execution_count": 13,
          "metadata": {},
          "output_type": "execute_result"
        }
      ],
      "source": [
        "alpha= 2.2 #range[1-3] - brightness\n",
        "beta = 50 #range[0-100] - contrast\n",
        "new_image = cv2.convertScaleAbs(img, alpha, beta)\n",
        "cv2.imshow(\"new image\", new_image)\n",
        "cv2.waitKey(0)"
      ]
    },
    {
      "cell_type": "code",
      "execution_count": null,
      "id": "0cc27327",
      "metadata": {
        "id": "0cc27327"
      },
      "outputs": [],
      "source": [
        "import numpy as np \n",
        "import pandas as pd\n",
        "import matplotlib.pyplot as plt \n",
        "import time \n",
        "import mediapipe as mp \n",
        "import cv2 as cv2"
      ]
    },
    {
      "cell_type": "code",
      "execution_count": null,
      "id": "783bc021",
      "metadata": {
        "id": "783bc021"
      },
      "outputs": [],
      "source": [
        "mpDraw = mp.solutions.drawing_utils \n",
        "facemesh = mp.solutions.face_mesh\n",
        "FaceMesh = facemesh.FaceMesh(static_image_mode = True, min_detection_confidence=0.5, min_tracking_confidence=0.5)\n",
        "drawingspecs = mpDraw.DrawingSpec(thickness=1, circle_radius=2, color = (0,255, 255))\n",
        "img = cv2.imread(r\"C:\\Users\\USER\\Downloads\\MLI\\lady.jpg\")\n",
        "blank = np.zeros(img.shape, np.uint8)\n",
        "with facemesh.FaceMesh(static_image_mode=True, min_detection_confidence=0.5, min_tracking_confidence=0.5) as face_mesh:\n",
        "    results = FaceMesh.process(cv2.cvtColor(img, cv2.COLOR_BGR2RGB))\n",
        "    for face_landmarks in results.multi_face_landmarks:\n",
        "        print(face_landmarks)\n",
        "        mpDraw.draw_landmarks(img, face_landmarks, facemesh.FACE_CONNECTIONS, drawingspecs, drawingspecs)\n",
        "        mpDraw.draw_landmarks(blank, face_landmarks, facemesh.FACE_CONNECTIONS, drawingspecs, drawingspecs)\n",
        "cv2.imshow(\"face landmarks\", img)\n",
        "cv2.imshow(\"landmarks extraction\", blank)\n",
        "cv2.waitKey(0)"
      ]
    }
  ],
  "metadata": {
    "kernelspec": {
      "display_name": "Python (cvenv)",
      "language": "python",
      "name": "cvenv"
    },
    "language_info": {
      "codemirror_mode": {
        "name": "ipython",
        "version": 3
      },
      "file_extension": ".py",
      "mimetype": "text/x-python",
      "name": "python",
      "nbconvert_exporter": "python",
      "pygments_lexer": "ipython3",
      "version": "3.6.13"
    },
    "colab": {
      "name": "Opencv-3.ipynb",
      "provenance": [],
      "include_colab_link": true
    }
  },
  "nbformat": 4,
  "nbformat_minor": 5
}