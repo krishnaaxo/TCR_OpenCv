{
 "cells": [
  {
   "cell_type": "code",
   "execution_count": 1,
   "id": "7b2e2414",
   "metadata": {},
   "outputs": [],
   "source": [
    "import numpy as np\n"
   ]
  },
  {
   "cell_type": "code",
   "execution_count": 2,
   "id": "98a037bf",
   "metadata": {},
   "outputs": [],
   "source": [
    "digit = np.array([\n",
    "    [1,2,3],\n",
    "    [4,5,6],\n",
    "    [7,8,9]\n",
    "])"
   ]
  },
  {
   "cell_type": "code",
   "execution_count": 3,
   "id": "78b39416",
   "metadata": {},
   "outputs": [
    {
     "name": "stdout",
     "output_type": "stream",
     "text": [
      "[[1 2 3]\n",
      " [4 5 6]\n",
      " [7 8 9]]\n"
     ]
    }
   ],
   "source": [
    "print(digit)"
   ]
  },
  {
   "cell_type": "code",
   "execution_count": 5,
   "id": "7b03f8fb",
   "metadata": {},
   "outputs": [
    {
     "data": {
      "text/plain": [
       "2"
      ]
     },
     "execution_count": 5,
     "metadata": {},
     "output_type": "execute_result"
    }
   ],
   "source": [
    "digit.ndim"
   ]
  },
  {
   "cell_type": "code",
   "execution_count": 6,
   "id": "4dee14d1",
   "metadata": {},
   "outputs": [],
   "source": [
    "a = np.array(42)\n",
    "b = np.array([1,2,3,4,5])\n",
    "c = np.array([[1,2,3], [4,5,6], [7,8,9]])\n",
    "d = np.array([[[1,2,3], [4,5,6]],[[6,7,4], [9,8,2]]])"
   ]
  },
  {
   "cell_type": "code",
   "execution_count": 7,
   "id": "40435d07",
   "metadata": {},
   "outputs": [
    {
     "name": "stdout",
     "output_type": "stream",
     "text": [
      "42\n",
      "[1 2 3 4 5]\n",
      "[[1 2 3]\n",
      " [4 5 6]\n",
      " [7 8 9]]\n",
      "[[[1 2 3]\n",
      "  [4 5 6]]\n",
      "\n",
      " [[6 7 4]\n",
      "  [9 8 2]]]\n"
     ]
    }
   ],
   "source": [
    "print(a)\n",
    "print(b)\n",
    "print(c)\n",
    "print(d)"
   ]
  },
  {
   "cell_type": "code",
   "execution_count": 8,
   "id": "2bc4a374",
   "metadata": {},
   "outputs": [
    {
     "name": "stdout",
     "output_type": "stream",
     "text": [
      "0 1 2 3\n"
     ]
    }
   ],
   "source": [
    "print(a.ndim, b.ndim, c.ndim, d.ndim)"
   ]
  },
  {
   "cell_type": "code",
   "execution_count": 9,
   "id": "bd7e323f",
   "metadata": {},
   "outputs": [
    {
     "name": "stdout",
     "output_type": "stream",
     "text": [
      "() (5,) (3, 3) (2, 2, 3)\n"
     ]
    }
   ],
   "source": [
    "print(a.shape, b.shape, c.shape, d.shape)"
   ]
  },
  {
   "cell_type": "code",
   "execution_count": 11,
   "id": "87ec6fbb",
   "metadata": {},
   "outputs": [
    {
     "name": "stdout",
     "output_type": "stream",
     "text": [
      "[1 2 3 4]\n",
      "1\n",
      "(4,)\n"
     ]
    }
   ],
   "source": [
    "arr = np.array([1,2,3,4], ndmin=1)\n",
    "print(arr)\n",
    "print(arr.ndim)\n",
    "print(arr.shape)"
   ]
  },
  {
   "cell_type": "code",
   "execution_count": 12,
   "id": "eebf804e",
   "metadata": {},
   "outputs": [
    {
     "name": "stdout",
     "output_type": "stream",
     "text": [
      "[[1 2]\n",
      " [3 4]]\n",
      "(2, 2)\n"
     ]
    }
   ],
   "source": [
    "arr = arr.reshape((2,2))\n",
    "print(arr)\n",
    "print(arr.shape)"
   ]
  },
  {
   "cell_type": "code",
   "execution_count": 13,
   "id": "4c6e407e",
   "metadata": {},
   "outputs": [
    {
     "data": {
      "text/plain": [
       "array([1, 2])"
      ]
     },
     "execution_count": 13,
     "metadata": {},
     "output_type": "execute_result"
    }
   ],
   "source": [
    "arr[0]"
   ]
  },
  {
   "cell_type": "code",
   "execution_count": 14,
   "id": "b04c3c0b",
   "metadata": {},
   "outputs": [
    {
     "data": {
      "text/plain": [
       "1"
      ]
     },
     "execution_count": 14,
     "metadata": {},
     "output_type": "execute_result"
    }
   ],
   "source": [
    "arr[0][0]"
   ]
  },
  {
   "cell_type": "code",
   "execution_count": 15,
   "id": "dbf60bd0",
   "metadata": {},
   "outputs": [
    {
     "data": {
      "text/plain": [
       "3"
      ]
     },
     "execution_count": 15,
     "metadata": {},
     "output_type": "execute_result"
    }
   ],
   "source": [
    "arr[1][0]"
   ]
  },
  {
   "cell_type": "code",
   "execution_count": 18,
   "id": "a964665a",
   "metadata": {},
   "outputs": [],
   "source": [
    "arr[1][0] = arr[0][0]+6"
   ]
  },
  {
   "cell_type": "code",
   "execution_count": 19,
   "id": "0cb51260",
   "metadata": {},
   "outputs": [
    {
     "data": {
      "text/plain": [
       "array([[1, 2],\n",
       "       [7, 4]])"
      ]
     },
     "execution_count": 19,
     "metadata": {},
     "output_type": "execute_result"
    }
   ],
   "source": [
    "arr"
   ]
  },
  {
   "cell_type": "code",
   "execution_count": 21,
   "id": "6354bd4f",
   "metadata": {},
   "outputs": [
    {
     "data": {
      "text/plain": [
       "array([[ 7,  7,  5,  5,  5],\n",
       "       [14, 11, 15, 15, 12]])"
      ]
     },
     "execution_count": 21,
     "metadata": {},
     "output_type": "execute_result"
    }
   ],
   "source": [
    "a = np.array([[1,2,2,3,4], [5,6,7,8,9]])\n",
    "b = np.array([[6,5,3,2,1], [9,5,8,7,3]])\n",
    "a+b"
   ]
  },
  {
   "cell_type": "code",
   "execution_count": 27,
   "id": "7d73e1f2",
   "metadata": {},
   "outputs": [],
   "source": [
    "vals = np.random.randn(0, 100)"
   ]
  },
  {
   "cell_type": "code",
   "execution_count": 28,
   "id": "d44b3cf2",
   "metadata": {},
   "outputs": [
    {
     "data": {
      "text/plain": [
       "array([], shape=(0, 100), dtype=float64)"
      ]
     },
     "execution_count": 28,
     "metadata": {},
     "output_type": "execute_result"
    }
   ],
   "source": [
    "vals"
   ]
  },
  {
   "cell_type": "code",
   "execution_count": 30,
   "id": "d4375405",
   "metadata": {},
   "outputs": [],
   "source": [
    "rand_vals =[np.random.randint(100, size=(3, 5)) for i in range(0, 10)]"
   ]
  },
  {
   "cell_type": "code",
   "execution_count": 31,
   "id": "16250421",
   "metadata": {},
   "outputs": [
    {
     "data": {
      "text/plain": [
       "[array([[11, 91, 30, 38, 77],\n",
       "        [40, 46, 19, 93, 44],\n",
       "        [53, 67, 86, 70, 52]]),\n",
       " array([[26, 83, 78, 27, 40],\n",
       "        [54, 52, 45, 92, 36],\n",
       "        [25,  1, 81, 13, 39]]),\n",
       " array([[84, 16, 55, 66, 83],\n",
       "        [52, 68,  1, 32, 68],\n",
       "        [72, 61, 38, 64, 86]]),\n",
       " array([[89, 74, 62, 91, 24],\n",
       "        [ 5, 71,  7,  1, 27],\n",
       "        [33, 79, 73, 16,  6]]),\n",
       " array([[23, 27, 48, 44, 90],\n",
       "        [87, 93, 24, 20, 58],\n",
       "        [15, 21, 61, 32, 34]]),\n",
       " array([[90,  8, 73, 34, 92],\n",
       "        [54, 86, 52, 77, 22],\n",
       "        [46, 89, 89, 29, 77]]),\n",
       " array([[32, 55, 17, 77, 69],\n",
       "        [99, 28, 34, 33, 64],\n",
       "        [10, 57, 30, 33, 50]]),\n",
       " array([[81, 56, 61, 72, 42],\n",
       "        [63, 50, 15, 21, 95],\n",
       "        [17, 27, 71, 60, 74]]),\n",
       " array([[66, 28, 49, 57, 57],\n",
       "        [94, 96, 82, 98, 64],\n",
       "        [ 5, 77, 27, 22,  5]]),\n",
       " array([[28,  2,  7, 58, 94],\n",
       "        [16, 92, 60, 30, 81],\n",
       "        [25,  9, 48, 40, 53]])]"
      ]
     },
     "execution_count": 31,
     "metadata": {},
     "output_type": "execute_result"
    }
   ],
   "source": [
    "rand_vals"
   ]
  },
  {
   "cell_type": "code",
   "execution_count": null,
   "id": "cb2c4676",
   "metadata": {},
   "outputs": [],
   "source": []
  }
 ],
 "metadata": {
  "kernelspec": {
   "display_name": "Python (cvenv)",
   "language": "python",
   "name": "cvenv"
  },
  "language_info": {
   "codemirror_mode": {
    "name": "ipython",
    "version": 3
   },
   "file_extension": ".py",
   "mimetype": "text/x-python",
   "name": "python",
   "nbconvert_exporter": "python",
   "pygments_lexer": "ipython3",
   "version": "3.6.13"
  }
 },
 "nbformat": 4,
 "nbformat_minor": 5
}
