{
 "cells": [
  {
   "cell_type": "code",
   "execution_count": null,
   "id": "2c4ac1b7",
   "metadata": {},
   "outputs": [],
   "source": [
    "!pip install --user pandas \n",
    "!pip install --user numpy \n",
    "conda install pandas "
   ]
  },
  {
   "cell_type": "code",
   "execution_count": 4,
   "id": "d6c6cd97",
   "metadata": {},
   "outputs": [],
   "source": [
    "import pandas as pd\n",
    "cars_rating = {\n",
    "    'cars' : ['BMW', \"Audi\", \"Tesla\", \"tata\", \"Suzuki\"],\n",
    "    'rating' : [4,5,6,9,1]\n",
    "}"
   ]
  },
  {
   "cell_type": "code",
   "execution_count": 5,
   "id": "dd28ab77",
   "metadata": {},
   "outputs": [
    {
     "data": {
      "text/plain": [
       "{'cars': ['BMW', 'Audi', 'Tesla', 'tata', 'Suzuki'], 'rating': [4, 5, 6, 9, 1]}"
      ]
     },
     "execution_count": 5,
     "metadata": {},
     "output_type": "execute_result"
    }
   ],
   "source": [
    "cars_rating"
   ]
  },
  {
   "cell_type": "code",
   "execution_count": 6,
   "id": "e83fad39",
   "metadata": {},
   "outputs": [
    {
     "data": {
      "text/plain": [
       "dict_keys(['cars', 'rating'])"
      ]
     },
     "execution_count": 6,
     "metadata": {},
     "output_type": "execute_result"
    }
   ],
   "source": [
    "cars_rating.keys()"
   ]
  },
  {
   "cell_type": "code",
   "execution_count": 7,
   "id": "4cb86fb6",
   "metadata": {},
   "outputs": [
    {
     "data": {
      "text/plain": [
       "dict_values([['BMW', 'Audi', 'Tesla', 'tata', 'Suzuki'], [4, 5, 6, 9, 1]])"
      ]
     },
     "execution_count": 7,
     "metadata": {},
     "output_type": "execute_result"
    }
   ],
   "source": [
    "cars_rating.values()"
   ]
  },
  {
   "cell_type": "code",
   "execution_count": 8,
   "id": "acdcdacf",
   "metadata": {},
   "outputs": [],
   "source": [
    "cars_value = pd.DataFrame(cars_rating)"
   ]
  },
  {
   "cell_type": "code",
   "execution_count": 9,
   "id": "e60cb855",
   "metadata": {},
   "outputs": [
    {
     "data": {
      "text/html": [
       "<div>\n",
       "<style scoped>\n",
       "    .dataframe tbody tr th:only-of-type {\n",
       "        vertical-align: middle;\n",
       "    }\n",
       "\n",
       "    .dataframe tbody tr th {\n",
       "        vertical-align: top;\n",
       "    }\n",
       "\n",
       "    .dataframe thead th {\n",
       "        text-align: right;\n",
       "    }\n",
       "</style>\n",
       "<table border=\"1\" class=\"dataframe\">\n",
       "  <thead>\n",
       "    <tr style=\"text-align: right;\">\n",
       "      <th></th>\n",
       "      <th>cars</th>\n",
       "      <th>rating</th>\n",
       "    </tr>\n",
       "  </thead>\n",
       "  <tbody>\n",
       "    <tr>\n",
       "      <th>0</th>\n",
       "      <td>BMW</td>\n",
       "      <td>4</td>\n",
       "    </tr>\n",
       "    <tr>\n",
       "      <th>1</th>\n",
       "      <td>Audi</td>\n",
       "      <td>5</td>\n",
       "    </tr>\n",
       "    <tr>\n",
       "      <th>2</th>\n",
       "      <td>Tesla</td>\n",
       "      <td>6</td>\n",
       "    </tr>\n",
       "    <tr>\n",
       "      <th>3</th>\n",
       "      <td>tata</td>\n",
       "      <td>9</td>\n",
       "    </tr>\n",
       "    <tr>\n",
       "      <th>4</th>\n",
       "      <td>Suzuki</td>\n",
       "      <td>1</td>\n",
       "    </tr>\n",
       "  </tbody>\n",
       "</table>\n",
       "</div>"
      ],
      "text/plain": [
       "     cars  rating\n",
       "0     BMW       4\n",
       "1    Audi       5\n",
       "2   Tesla       6\n",
       "3    tata       9\n",
       "4  Suzuki       1"
      ]
     },
     "execution_count": 9,
     "metadata": {},
     "output_type": "execute_result"
    }
   ],
   "source": [
    "cars_value"
   ]
  },
  {
   "cell_type": "code",
   "execution_count": 10,
   "id": "60215de0",
   "metadata": {},
   "outputs": [
    {
     "data": {
      "text/html": [
       "<div>\n",
       "<style scoped>\n",
       "    .dataframe tbody tr th:only-of-type {\n",
       "        vertical-align: middle;\n",
       "    }\n",
       "\n",
       "    .dataframe tbody tr th {\n",
       "        vertical-align: top;\n",
       "    }\n",
       "\n",
       "    .dataframe thead th {\n",
       "        text-align: right;\n",
       "    }\n",
       "</style>\n",
       "<table border=\"1\" class=\"dataframe\">\n",
       "  <thead>\n",
       "    <tr style=\"text-align: right;\">\n",
       "      <th></th>\n",
       "      <th>cars</th>\n",
       "      <th>rating</th>\n",
       "    </tr>\n",
       "  </thead>\n",
       "  <tbody>\n",
       "    <tr>\n",
       "      <th>0</th>\n",
       "      <td>BMW</td>\n",
       "      <td>4</td>\n",
       "    </tr>\n",
       "    <tr>\n",
       "      <th>1</th>\n",
       "      <td>Audi</td>\n",
       "      <td>5</td>\n",
       "    </tr>\n",
       "    <tr>\n",
       "      <th>2</th>\n",
       "      <td>Tesla</td>\n",
       "      <td>6</td>\n",
       "    </tr>\n",
       "    <tr>\n",
       "      <th>3</th>\n",
       "      <td>tata</td>\n",
       "      <td>9</td>\n",
       "    </tr>\n",
       "    <tr>\n",
       "      <th>4</th>\n",
       "      <td>Suzuki</td>\n",
       "      <td>1</td>\n",
       "    </tr>\n",
       "  </tbody>\n",
       "</table>\n",
       "</div>"
      ],
      "text/plain": [
       "     cars  rating\n",
       "0     BMW       4\n",
       "1    Audi       5\n",
       "2   Tesla       6\n",
       "3    tata       9\n",
       "4  Suzuki       1"
      ]
     },
     "execution_count": 10,
     "metadata": {},
     "output_type": "execute_result"
    }
   ],
   "source": [
    "cars_value.head()"
   ]
  },
  {
   "cell_type": "code",
   "execution_count": 11,
   "id": "2dcd6018",
   "metadata": {},
   "outputs": [
    {
     "data": {
      "text/html": [
       "<div>\n",
       "<style scoped>\n",
       "    .dataframe tbody tr th:only-of-type {\n",
       "        vertical-align: middle;\n",
       "    }\n",
       "\n",
       "    .dataframe tbody tr th {\n",
       "        vertical-align: top;\n",
       "    }\n",
       "\n",
       "    .dataframe thead th {\n",
       "        text-align: right;\n",
       "    }\n",
       "</style>\n",
       "<table border=\"1\" class=\"dataframe\">\n",
       "  <thead>\n",
       "    <tr style=\"text-align: right;\">\n",
       "      <th></th>\n",
       "      <th>cars</th>\n",
       "      <th>rating</th>\n",
       "    </tr>\n",
       "  </thead>\n",
       "  <tbody>\n",
       "    <tr>\n",
       "      <th>0</th>\n",
       "      <td>BMW</td>\n",
       "      <td>4</td>\n",
       "    </tr>\n",
       "    <tr>\n",
       "      <th>1</th>\n",
       "      <td>Audi</td>\n",
       "      <td>5</td>\n",
       "    </tr>\n",
       "    <tr>\n",
       "      <th>2</th>\n",
       "      <td>Tesla</td>\n",
       "      <td>6</td>\n",
       "    </tr>\n",
       "    <tr>\n",
       "      <th>3</th>\n",
       "      <td>tata</td>\n",
       "      <td>9</td>\n",
       "    </tr>\n",
       "    <tr>\n",
       "      <th>4</th>\n",
       "      <td>Suzuki</td>\n",
       "      <td>1</td>\n",
       "    </tr>\n",
       "  </tbody>\n",
       "</table>\n",
       "</div>"
      ],
      "text/plain": [
       "     cars  rating\n",
       "0     BMW       4\n",
       "1    Audi       5\n",
       "2   Tesla       6\n",
       "3    tata       9\n",
       "4  Suzuki       1"
      ]
     },
     "execution_count": 11,
     "metadata": {},
     "output_type": "execute_result"
    }
   ],
   "source": [
    "cars_value.tail()"
   ]
  },
  {
   "cell_type": "code",
   "execution_count": 13,
   "id": "3aa10ba8",
   "metadata": {},
   "outputs": [
    {
     "data": {
      "text/plain": [
       "0"
      ]
     },
     "execution_count": 13,
     "metadata": {},
     "output_type": "execute_result"
    }
   ],
   "source": [
    "cars_value.isnull().sum().sum()"
   ]
  },
  {
   "cell_type": "code",
   "execution_count": 14,
   "id": "bebe249e",
   "metadata": {},
   "outputs": [
    {
     "data": {
      "text/html": [
       "<div>\n",
       "<style scoped>\n",
       "    .dataframe tbody tr th:only-of-type {\n",
       "        vertical-align: middle;\n",
       "    }\n",
       "\n",
       "    .dataframe tbody tr th {\n",
       "        vertical-align: top;\n",
       "    }\n",
       "\n",
       "    .dataframe thead th {\n",
       "        text-align: right;\n",
       "    }\n",
       "</style>\n",
       "<table border=\"1\" class=\"dataframe\">\n",
       "  <thead>\n",
       "    <tr style=\"text-align: right;\">\n",
       "      <th></th>\n",
       "      <th>cars</th>\n",
       "      <th>rating</th>\n",
       "    </tr>\n",
       "  </thead>\n",
       "  <tbody>\n",
       "    <tr>\n",
       "      <th>2</th>\n",
       "      <td>Tesla</td>\n",
       "      <td>6</td>\n",
       "    </tr>\n",
       "  </tbody>\n",
       "</table>\n",
       "</div>"
      ],
      "text/plain": [
       "    cars  rating\n",
       "2  Tesla       6"
      ]
     },
     "execution_count": 14,
     "metadata": {},
     "output_type": "execute_result"
    }
   ],
   "source": [
    "cars_value[cars_value.cars == 'Tesla']"
   ]
  },
  {
   "cell_type": "code",
   "execution_count": 38,
   "id": "fc6549f6",
   "metadata": {},
   "outputs": [
    {
     "name": "stderr",
     "output_type": "stream",
     "text": [
      "C:\\Users\\USER\\.conda\\envs\\cvenv\\lib\\site-packages\\openpyxl\\worksheet\\header_footer.py:48: UserWarning: Cannot parse header or footer so it will be ignored\n",
      "  warn(\"\"\"Cannot parse header or footer so it will be ignored\"\"\")\n"
     ]
    },
    {
     "data": {
      "text/html": [
       "<div>\n",
       "<style scoped>\n",
       "    .dataframe tbody tr th:only-of-type {\n",
       "        vertical-align: middle;\n",
       "    }\n",
       "\n",
       "    .dataframe tbody tr th {\n",
       "        vertical-align: top;\n",
       "    }\n",
       "\n",
       "    .dataframe thead th {\n",
       "        text-align: right;\n",
       "    }\n",
       "</style>\n",
       "<table border=\"1\" class=\"dataframe\">\n",
       "  <thead>\n",
       "    <tr style=\"text-align: right;\">\n",
       "      <th></th>\n",
       "      <th>Row ID</th>\n",
       "      <th>Order ID</th>\n",
       "      <th>Order Date</th>\n",
       "      <th>Ship Date</th>\n",
       "      <th>Ship Mode</th>\n",
       "      <th>Customer ID</th>\n",
       "      <th>Customer Name</th>\n",
       "      <th>Segment</th>\n",
       "      <th>Country/Region</th>\n",
       "      <th>City</th>\n",
       "      <th>...</th>\n",
       "      <th>Postal Code</th>\n",
       "      <th>Region</th>\n",
       "      <th>Product ID</th>\n",
       "      <th>Category</th>\n",
       "      <th>Sub-Category</th>\n",
       "      <th>Product Name</th>\n",
       "      <th>Sales</th>\n",
       "      <th>Quantity</th>\n",
       "      <th>Discount</th>\n",
       "      <th>Profit</th>\n",
       "    </tr>\n",
       "  </thead>\n",
       "  <tbody>\n",
       "    <tr>\n",
       "      <th>0</th>\n",
       "      <td>1</td>\n",
       "      <td>CA-2018-152156</td>\n",
       "      <td>2018-11-08</td>\n",
       "      <td>2018-11-11</td>\n",
       "      <td>Second Class</td>\n",
       "      <td>CG-12520</td>\n",
       "      <td>Claire Gute</td>\n",
       "      <td>Consumer</td>\n",
       "      <td>United States</td>\n",
       "      <td>Henderson</td>\n",
       "      <td>...</td>\n",
       "      <td>42420.0</td>\n",
       "      <td>South</td>\n",
       "      <td>FUR-BO-10001798</td>\n",
       "      <td>Furniture</td>\n",
       "      <td>Bookcases</td>\n",
       "      <td>Bush Somerset Collection Bookcase</td>\n",
       "      <td>261.9600</td>\n",
       "      <td>2</td>\n",
       "      <td>0.00</td>\n",
       "      <td>41.9136</td>\n",
       "    </tr>\n",
       "    <tr>\n",
       "      <th>1</th>\n",
       "      <td>2</td>\n",
       "      <td>CA-2018-152156</td>\n",
       "      <td>2018-11-08</td>\n",
       "      <td>2018-11-11</td>\n",
       "      <td>Second Class</td>\n",
       "      <td>CG-12520</td>\n",
       "      <td>Claire Gute</td>\n",
       "      <td>Consumer</td>\n",
       "      <td>United States</td>\n",
       "      <td>Henderson</td>\n",
       "      <td>...</td>\n",
       "      <td>42420.0</td>\n",
       "      <td>South</td>\n",
       "      <td>FUR-CH-10000454</td>\n",
       "      <td>Furniture</td>\n",
       "      <td>Chairs</td>\n",
       "      <td>Hon Deluxe Fabric Upholstered Stacking Chairs,...</td>\n",
       "      <td>731.9400</td>\n",
       "      <td>3</td>\n",
       "      <td>0.00</td>\n",
       "      <td>219.5820</td>\n",
       "    </tr>\n",
       "    <tr>\n",
       "      <th>2</th>\n",
       "      <td>3</td>\n",
       "      <td>CA-2018-138688</td>\n",
       "      <td>2018-06-12</td>\n",
       "      <td>2018-06-16</td>\n",
       "      <td>Second Class</td>\n",
       "      <td>DV-13045</td>\n",
       "      <td>Darrin Van Huff</td>\n",
       "      <td>Corporate</td>\n",
       "      <td>United States</td>\n",
       "      <td>Los Angeles</td>\n",
       "      <td>...</td>\n",
       "      <td>90036.0</td>\n",
       "      <td>West</td>\n",
       "      <td>OFF-LA-10000240</td>\n",
       "      <td>Office Supplies</td>\n",
       "      <td>Labels</td>\n",
       "      <td>Self-Adhesive Address Labels for Typewriters b...</td>\n",
       "      <td>14.6200</td>\n",
       "      <td>2</td>\n",
       "      <td>0.00</td>\n",
       "      <td>6.8714</td>\n",
       "    </tr>\n",
       "    <tr>\n",
       "      <th>3</th>\n",
       "      <td>4</td>\n",
       "      <td>US-2017-108966</td>\n",
       "      <td>2017-10-11</td>\n",
       "      <td>2017-10-18</td>\n",
       "      <td>Standard Class</td>\n",
       "      <td>SO-20335</td>\n",
       "      <td>Sean O'Donnell</td>\n",
       "      <td>Consumer</td>\n",
       "      <td>United States</td>\n",
       "      <td>Fort Lauderdale</td>\n",
       "      <td>...</td>\n",
       "      <td>33311.0</td>\n",
       "      <td>South</td>\n",
       "      <td>FUR-TA-10000577</td>\n",
       "      <td>Furniture</td>\n",
       "      <td>Tables</td>\n",
       "      <td>Bretford CR4500 Series Slim Rectangular Table</td>\n",
       "      <td>957.5775</td>\n",
       "      <td>5</td>\n",
       "      <td>0.45</td>\n",
       "      <td>-383.0310</td>\n",
       "    </tr>\n",
       "    <tr>\n",
       "      <th>4</th>\n",
       "      <td>5</td>\n",
       "      <td>US-2017-108966</td>\n",
       "      <td>2017-10-11</td>\n",
       "      <td>2017-10-18</td>\n",
       "      <td>Standard Class</td>\n",
       "      <td>SO-20335</td>\n",
       "      <td>Sean O'Donnell</td>\n",
       "      <td>Consumer</td>\n",
       "      <td>United States</td>\n",
       "      <td>Fort Lauderdale</td>\n",
       "      <td>...</td>\n",
       "      <td>33311.0</td>\n",
       "      <td>South</td>\n",
       "      <td>OFF-ST-10000760</td>\n",
       "      <td>Office Supplies</td>\n",
       "      <td>Storage</td>\n",
       "      <td>Eldon Fold 'N Roll Cart System</td>\n",
       "      <td>22.3680</td>\n",
       "      <td>2</td>\n",
       "      <td>0.20</td>\n",
       "      <td>2.5164</td>\n",
       "    </tr>\n",
       "  </tbody>\n",
       "</table>\n",
       "<p>5 rows × 21 columns</p>\n",
       "</div>"
      ],
      "text/plain": [
       "   Row ID        Order ID Order Date  Ship Date       Ship Mode Customer ID  \\\n",
       "0       1  CA-2018-152156 2018-11-08 2018-11-11    Second Class    CG-12520   \n",
       "1       2  CA-2018-152156 2018-11-08 2018-11-11    Second Class    CG-12520   \n",
       "2       3  CA-2018-138688 2018-06-12 2018-06-16    Second Class    DV-13045   \n",
       "3       4  US-2017-108966 2017-10-11 2017-10-18  Standard Class    SO-20335   \n",
       "4       5  US-2017-108966 2017-10-11 2017-10-18  Standard Class    SO-20335   \n",
       "\n",
       "     Customer Name    Segment Country/Region             City  ...  \\\n",
       "0      Claire Gute   Consumer  United States        Henderson  ...   \n",
       "1      Claire Gute   Consumer  United States        Henderson  ...   \n",
       "2  Darrin Van Huff  Corporate  United States      Los Angeles  ...   \n",
       "3   Sean O'Donnell   Consumer  United States  Fort Lauderdale  ...   \n",
       "4   Sean O'Donnell   Consumer  United States  Fort Lauderdale  ...   \n",
       "\n",
       "  Postal Code  Region       Product ID         Category Sub-Category  \\\n",
       "0     42420.0   South  FUR-BO-10001798        Furniture    Bookcases   \n",
       "1     42420.0   South  FUR-CH-10000454        Furniture       Chairs   \n",
       "2     90036.0    West  OFF-LA-10000240  Office Supplies       Labels   \n",
       "3     33311.0   South  FUR-TA-10000577        Furniture       Tables   \n",
       "4     33311.0   South  OFF-ST-10000760  Office Supplies      Storage   \n",
       "\n",
       "                                        Product Name     Sales  Quantity  \\\n",
       "0                  Bush Somerset Collection Bookcase  261.9600         2   \n",
       "1  Hon Deluxe Fabric Upholstered Stacking Chairs,...  731.9400         3   \n",
       "2  Self-Adhesive Address Labels for Typewriters b...   14.6200         2   \n",
       "3      Bretford CR4500 Series Slim Rectangular Table  957.5775         5   \n",
       "4                     Eldon Fold 'N Roll Cart System   22.3680         2   \n",
       "\n",
       "   Discount    Profit  \n",
       "0      0.00   41.9136  \n",
       "1      0.00  219.5820  \n",
       "2      0.00    6.8714  \n",
       "3      0.45 -383.0310  \n",
       "4      0.20    2.5164  \n",
       "\n",
       "[5 rows x 21 columns]"
      ]
     },
     "execution_count": 38,
     "metadata": {},
     "output_type": "execute_result"
    }
   ],
   "source": [
    "dataset = pd.read_excel(r\"C:\\Users\\USER\\Downloads\\Untitled Folder\\Data\\Retail.xlsx\", engine='openpyxl')\n",
    "dataset.head()"
   ]
  },
  {
   "cell_type": "code",
   "execution_count": 18,
   "id": "bde4e1fa",
   "metadata": {},
   "outputs": [
    {
     "data": {
      "text/plain": [
       "(9994, 21)"
      ]
     },
     "execution_count": 18,
     "metadata": {},
     "output_type": "execute_result"
    }
   ],
   "source": [
    "dataset.shape"
   ]
  },
  {
   "cell_type": "code",
   "execution_count": 19,
   "id": "318e81fb",
   "metadata": {},
   "outputs": [
    {
     "data": {
      "text/plain": [
       "Index(['Row ID', 'Order ID', 'Order Date', 'Ship Date', 'Ship Mode',\n",
       "       'Customer ID', 'Customer Name', 'Segment', 'Country/Region', 'City',\n",
       "       'State', 'Postal Code', 'Region', 'Product ID', 'Category',\n",
       "       'Sub-Category', 'Product Name', 'Sales', 'Quantity', 'Discount',\n",
       "       'Profit'],\n",
       "      dtype='object')"
      ]
     },
     "execution_count": 19,
     "metadata": {},
     "output_type": "execute_result"
    }
   ],
   "source": [
    "dataset.columns.__len__()"
   ]
  },
  {
   "cell_type": "code",
   "execution_count": 20,
   "id": "dcf8e75e",
   "metadata": {},
   "outputs": [
    {
     "data": {
      "text/plain": [
       "21"
      ]
     },
     "execution_count": 20,
     "metadata": {},
     "output_type": "execute_result"
    }
   ],
   "source": [
    "dataset.columns.__len__()"
   ]
  },
  {
   "cell_type": "code",
   "execution_count": 23,
   "id": "34610152",
   "metadata": {},
   "outputs": [
    {
     "data": {
      "text/plain": [
       "228"
      ]
     },
     "execution_count": 23,
     "metadata": {},
     "output_type": "execute_result"
    }
   ],
   "source": [
    "dataset[dataset['Sub-Category'] == \"Bookcases\"].__len__()"
   ]
  },
  {
   "cell_type": "code",
   "execution_count": 24,
   "id": "171a3523",
   "metadata": {},
   "outputs": [
    {
     "data": {
      "text/plain": [
       "Binders        1523\n",
       "Paper          1370\n",
       "Furnishings     957\n",
       "Phones          889\n",
       "Storage         846\n",
       "Art             796\n",
       "Accessories     775\n",
       "Chairs          617\n",
       "Appliances      466\n",
       "Labels          364\n",
       "Tables          319\n",
       "Envelopes       254\n",
       "Bookcases       228\n",
       "Fasteners       217\n",
       "Supplies        190\n",
       "Machines        115\n",
       "Copiers          68\n",
       "Name: Sub-Category, dtype: int64"
      ]
     },
     "execution_count": 24,
     "metadata": {},
     "output_type": "execute_result"
    }
   ],
   "source": [
    "dataset['Sub-Category'].value_counts()"
   ]
  },
  {
   "cell_type": "code",
   "execution_count": 26,
   "id": "cb45e800",
   "metadata": {},
   "outputs": [
    {
     "data": {
      "text/plain": [
       "-3472.556000000003"
      ]
     },
     "execution_count": 26,
     "metadata": {},
     "output_type": "execute_result"
    }
   ],
   "source": [
    "dataset[dataset['Sub-Category'] == \"Bookcases\"]['Profit'].sum()"
   ]
  },
  {
   "cell_type": "code",
   "execution_count": 27,
   "id": "dced3db6",
   "metadata": {},
   "outputs": [
    {
     "data": {
      "text/plain": [
       "868"
      ]
     },
     "execution_count": 27,
     "metadata": {},
     "output_type": "execute_result"
    }
   ],
   "source": [
    "dataset[dataset['Sub-Category'] == \"Bookcases\"]['Quantity'].sum()"
   ]
  },
  {
   "cell_type": "code",
   "execution_count": 29,
   "id": "fb082c50",
   "metadata": {},
   "outputs": [
    {
     "data": {
      "text/plain": [
       "4.0"
      ]
     },
     "execution_count": 29,
     "metadata": {},
     "output_type": "execute_result"
    }
   ],
   "source": [
    "import numpy as np \n",
    "np.round(dataset[dataset['Sub-Category'] == \"Bookcases\"]['Quantity'].mean())"
   ]
  },
  {
   "cell_type": "code",
   "execution_count": 31,
   "id": "c9bb0182",
   "metadata": {},
   "outputs": [
    {
     "data": {
      "text/plain": [
       "Row ID             0\n",
       "Order ID           0\n",
       "Order Date         0\n",
       "Ship Date          0\n",
       "Ship Mode          0\n",
       "Customer ID        0\n",
       "Customer Name      0\n",
       "Segment            0\n",
       "Country/Region     0\n",
       "City               0\n",
       "State              0\n",
       "Postal Code       11\n",
       "Region             0\n",
       "Product ID         0\n",
       "Category           0\n",
       "Sub-Category       0\n",
       "Product Name       0\n",
       "Sales              0\n",
       "Quantity           0\n",
       "Discount           0\n",
       "Profit             0\n",
       "dtype: int64"
      ]
     },
     "execution_count": 31,
     "metadata": {},
     "output_type": "execute_result"
    }
   ],
   "source": [
    "dataset.isnull().sum()"
   ]
  },
  {
   "cell_type": "code",
   "execution_count": 35,
   "id": "067a6963",
   "metadata": {},
   "outputs": [],
   "source": [
    "dataset['Postal Code'] = dataset['Postal Code'].fillna(70000, inplace=True)"
   ]
  },
  {
   "cell_type": "code",
   "execution_count": 36,
   "id": "bc6c72ed",
   "metadata": {},
   "outputs": [
    {
     "data": {
      "text/plain": [
       "Row ID               0\n",
       "Order ID             0\n",
       "Order Date           0\n",
       "Ship Date            0\n",
       "Ship Mode            0\n",
       "Customer ID          0\n",
       "Customer Name        0\n",
       "Segment              0\n",
       "Country/Region       0\n",
       "City                 0\n",
       "State                0\n",
       "Postal Code       9994\n",
       "Region               0\n",
       "Product ID           0\n",
       "Category             0\n",
       "Sub-Category         0\n",
       "Product Name         0\n",
       "Sales                0\n",
       "Quantity             0\n",
       "Discount             0\n",
       "Profit               0\n",
       "dtype: int64"
      ]
     },
     "execution_count": 36,
     "metadata": {},
     "output_type": "execute_result"
    }
   ],
   "source": [
    "dataset.isnull().sum()"
   ]
  },
  {
   "cell_type": "code",
   "execution_count": 37,
   "id": "96a8631d",
   "metadata": {},
   "outputs": [
    {
     "data": {
      "text/plain": [
       "0       None\n",
       "1       None\n",
       "2       None\n",
       "3       None\n",
       "4       None\n",
       "        ... \n",
       "9989    None\n",
       "9990    None\n",
       "9991    None\n",
       "9992    None\n",
       "9993    None\n",
       "Name: Postal Code, Length: 9994, dtype: object"
      ]
     },
     "execution_count": 37,
     "metadata": {},
     "output_type": "execute_result"
    }
   ],
   "source": [
    "dataset['Postal Code']"
   ]
  },
  {
   "cell_type": "code",
   "execution_count": 39,
   "id": "3dd79850",
   "metadata": {},
   "outputs": [
    {
     "data": {
      "text/plain": [
       "Row ID             0\n",
       "Order ID           0\n",
       "Order Date         0\n",
       "Ship Date          0\n",
       "Ship Mode          0\n",
       "Customer ID        0\n",
       "Customer Name      0\n",
       "Segment            0\n",
       "Country/Region     0\n",
       "City               0\n",
       "State              0\n",
       "Postal Code       11\n",
       "Region             0\n",
       "Product ID         0\n",
       "Category           0\n",
       "Sub-Category       0\n",
       "Product Name       0\n",
       "Sales              0\n",
       "Quantity           0\n",
       "Discount           0\n",
       "Profit             0\n",
       "dtype: int64"
      ]
     },
     "execution_count": 39,
     "metadata": {},
     "output_type": "execute_result"
    }
   ],
   "source": [
    "dataset.isnull().sum()"
   ]
  },
  {
   "cell_type": "code",
   "execution_count": 40,
   "id": "5b9963fe",
   "metadata": {},
   "outputs": [],
   "source": [
    "dataset_new = dataset.fillna(method='ffill')"
   ]
  },
  {
   "cell_type": "code",
   "execution_count": 41,
   "id": "8324b709",
   "metadata": {},
   "outputs": [
    {
     "data": {
      "text/plain": [
       "Row ID            0\n",
       "Order ID          0\n",
       "Order Date        0\n",
       "Ship Date         0\n",
       "Ship Mode         0\n",
       "Customer ID       0\n",
       "Customer Name     0\n",
       "Segment           0\n",
       "Country/Region    0\n",
       "City              0\n",
       "State             0\n",
       "Postal Code       0\n",
       "Region            0\n",
       "Product ID        0\n",
       "Category          0\n",
       "Sub-Category      0\n",
       "Product Name      0\n",
       "Sales             0\n",
       "Quantity          0\n",
       "Discount          0\n",
       "Profit            0\n",
       "dtype: int64"
      ]
     },
     "execution_count": 41,
     "metadata": {},
     "output_type": "execute_result"
    }
   ],
   "source": [
    "dataset_new.isnull().sum()"
   ]
  },
  {
   "cell_type": "code",
   "execution_count": 43,
   "id": "f74a022e",
   "metadata": {},
   "outputs": [],
   "source": [
    "g = dataset.groupby('Segment')"
   ]
  },
  {
   "cell_type": "code",
   "execution_count": 44,
   "id": "8b2fad7f",
   "metadata": {},
   "outputs": [
    {
     "name": "stdout",
     "output_type": "stream",
     "text": [
      "Consumer\n",
      "      Row ID        Order ID Order Date  Ship Date       Ship Mode  \\\n",
      "0          1  CA-2018-152156 2018-11-08 2018-11-11    Second Class   \n",
      "1          2  CA-2018-152156 2018-11-08 2018-11-11    Second Class   \n",
      "3          4  US-2017-108966 2017-10-11 2017-10-18  Standard Class   \n",
      "4          5  US-2017-108966 2017-10-11 2017-10-18  Standard Class   \n",
      "5          6  CA-2016-115812 2016-06-09 2016-06-14  Standard Class   \n",
      "...      ...             ...        ...        ...             ...   \n",
      "9989    9990  CA-2016-110422 2016-01-21 2016-01-23    Second Class   \n",
      "9990    9991  CA-2019-121258 2019-02-26 2019-03-03  Standard Class   \n",
      "9991    9992  CA-2019-121258 2019-02-26 2019-03-03  Standard Class   \n",
      "9992    9993  CA-2019-121258 2019-02-26 2019-03-03  Standard Class   \n",
      "9993    9994  CA-2019-119914 2019-05-04 2019-05-09    Second Class   \n",
      "\n",
      "     Customer ID     Customer Name   Segment Country/Region             City  \\\n",
      "0       CG-12520       Claire Gute  Consumer  United States        Henderson   \n",
      "1       CG-12520       Claire Gute  Consumer  United States        Henderson   \n",
      "3       SO-20335    Sean O'Donnell  Consumer  United States  Fort Lauderdale   \n",
      "4       SO-20335    Sean O'Donnell  Consumer  United States  Fort Lauderdale   \n",
      "5       BH-11710   Brosina Hoffman  Consumer  United States      Los Angeles   \n",
      "...          ...               ...       ...            ...              ...   \n",
      "9989    TB-21400  Tom Boeckenhauer  Consumer  United States            Miami   \n",
      "9990    DB-13060       Dave Brooks  Consumer  United States       Costa Mesa   \n",
      "9991    DB-13060       Dave Brooks  Consumer  United States       Costa Mesa   \n",
      "9992    DB-13060       Dave Brooks  Consumer  United States       Costa Mesa   \n",
      "9993    CC-12220      Chris Cortes  Consumer  United States      Westminster   \n",
      "\n",
      "      ... Postal Code  Region       Product ID         Category Sub-Category  \\\n",
      "0     ...     42420.0   South  FUR-BO-10001798        Furniture    Bookcases   \n",
      "1     ...     42420.0   South  FUR-CH-10000454        Furniture       Chairs   \n",
      "3     ...     33311.0   South  FUR-TA-10000577        Furniture       Tables   \n",
      "4     ...     33311.0   South  OFF-ST-10000760  Office Supplies      Storage   \n",
      "5     ...     90032.0    West  FUR-FU-10001487        Furniture  Furnishings   \n",
      "...   ...         ...     ...              ...              ...          ...   \n",
      "9989  ...     33180.0   South  FUR-FU-10001889        Furniture  Furnishings   \n",
      "9990  ...     92627.0    West  FUR-FU-10000747        Furniture  Furnishings   \n",
      "9991  ...     92627.0    West  TEC-PH-10003645       Technology       Phones   \n",
      "9992  ...     92627.0    West  OFF-PA-10004041  Office Supplies        Paper   \n",
      "9993  ...     92683.0    West  OFF-AP-10002684  Office Supplies   Appliances   \n",
      "\n",
      "                                           Product Name     Sales  Quantity  \\\n",
      "0                     Bush Somerset Collection Bookcase  261.9600         2   \n",
      "1     Hon Deluxe Fabric Upholstered Stacking Chairs,...  731.9400         3   \n",
      "3         Bretford CR4500 Series Slim Rectangular Table  957.5775         5   \n",
      "4                        Eldon Fold 'N Roll Cart System   22.3680         2   \n",
      "5     Eldon Expressions Wood and Plastic Desk Access...   48.8600         7   \n",
      "...                                                 ...       ...       ...   \n",
      "9989                             Ultra Door Pull Handle   25.2480         3   \n",
      "9990  Tenex B1-RE Series Chair Mats for Low Pile Car...   91.9600         2   \n",
      "9991                              Aastra 57i VoIP phone  258.5760         2   \n",
      "9992  It's Hot Message Books with Stickers, 2 3/4\" x 5\"   29.6000         4   \n",
      "9993  Acco 7-Outlet Masterpiece Power Center, Wihtou...  243.1600         2   \n",
      "\n",
      "      Discount    Profit  \n",
      "0         0.00   41.9136  \n",
      "1         0.00  219.5820  \n",
      "3         0.45 -383.0310  \n",
      "4         0.20    2.5164  \n",
      "5         0.00   14.1694  \n",
      "...        ...       ...  \n",
      "9989      0.20    4.1028  \n",
      "9990      0.00   15.6332  \n",
      "9991      0.20   19.3932  \n",
      "9992      0.00   13.3200  \n",
      "9993      0.00   72.9480  \n",
      "\n",
      "[5191 rows x 21 columns]\n",
      "***********************\n",
      "Corporate\n",
      "      Row ID        Order ID Order Date  Ship Date       Ship Mode  \\\n",
      "2          3  CA-2018-138688 2018-06-12 2018-06-16    Second Class   \n",
      "21        22  CA-2018-137330 2018-12-09 2018-12-13  Standard Class   \n",
      "22        23  CA-2018-137330 2018-12-09 2018-12-13  Standard Class   \n",
      "35        36  CA-2018-117590 2018-12-08 2018-12-10     First Class   \n",
      "36        37  CA-2018-117590 2018-12-08 2018-12-10     First Class   \n",
      "...      ...             ...        ...        ...             ...   \n",
      "9964    9965  CA-2018-146374 2018-12-05 2018-12-10    Second Class   \n",
      "9965    9966  CA-2018-146374 2018-12-05 2018-12-10    Second Class   \n",
      "9966    9967  CA-2018-146374 2018-12-05 2018-12-10    Second Class   \n",
      "9987    9988  CA-2019-163629 2019-11-17 2019-11-21  Standard Class   \n",
      "9988    9989  CA-2019-163629 2019-11-17 2019-11-21  Standard Class   \n",
      "\n",
      "     Customer ID    Customer Name    Segment Country/Region         City  ...  \\\n",
      "2       DV-13045  Darrin Van Huff  Corporate  United States  Los Angeles  ...   \n",
      "21      KB-16585        Ken Black  Corporate  United States      Fremont  ...   \n",
      "22      KB-16585        Ken Black  Corporate  United States      Fremont  ...   \n",
      "35      GH-14485        Gene Hale  Corporate  United States   Richardson  ...   \n",
      "36      GH-14485        Gene Hale  Corporate  United States   Richardson  ...   \n",
      "...          ...              ...        ...            ...          ...  ...   \n",
      "9964    HE-14800     Harold Engle  Corporate  United States       Newark  ...   \n",
      "9965    HE-14800     Harold Engle  Corporate  United States       Newark  ...   \n",
      "9966    HE-14800     Harold Engle  Corporate  United States       Newark  ...   \n",
      "9987    RA-19885     Ruben Ausman  Corporate  United States       Athens  ...   \n",
      "9988    RA-19885     Ruben Ausman  Corporate  United States       Athens  ...   \n",
      "\n",
      "     Postal Code   Region       Product ID         Category Sub-Category  \\\n",
      "2        90036.0     West  OFF-LA-10000240  Office Supplies       Labels   \n",
      "21       68025.0  Central  OFF-AR-10000246  Office Supplies          Art   \n",
      "22       68025.0  Central  OFF-AP-10001492  Office Supplies   Appliances   \n",
      "35       75080.0  Central  TEC-PH-10004977       Technology       Phones   \n",
      "36       75080.0  Central  FUR-FU-10003664        Furniture  Furnishings   \n",
      "...          ...      ...              ...              ...          ...   \n",
      "9964     19711.0     East  FUR-FU-10002671        Furniture  Furnishings   \n",
      "9965     19711.0     East  OFF-PA-10000349  Office Supplies        Paper   \n",
      "9966     19711.0     East  OFF-EN-10004483  Office Supplies    Envelopes   \n",
      "9987     30605.0    South  TEC-AC-10001539       Technology  Accessories   \n",
      "9988     30605.0    South  TEC-PH-10004006       Technology       Phones   \n",
      "\n",
      "                                           Product Name     Sales  Quantity  \\\n",
      "2     Self-Adhesive Address Labels for Typewriters b...    14.620         2   \n",
      "21                                           Newell 318    19.460         7   \n",
      "22          Acco Six-Outlet Power Strip, 4' Cord Length    60.340         7   \n",
      "35                                          GE 30524EE4  1097.544         7   \n",
      "36    Electrix Architect's Clamp-On Swing Arm Lamp, ...   190.920         5   \n",
      "...                                                 ...       ...       ...   \n",
      "9964  Electrix 20W Halogen Replacement Bulb for Zoom...    13.400         1   \n",
      "9965                                  Easy-staple paper     4.980         1   \n",
      "9966         #10 White Business Envelopes,4 1/8 x 9 1/2   109.690         7   \n",
      "9987  Logitech G430 Surround Sound Gaming Headset wi...    79.990         1   \n",
      "9988                    Panasonic KX - TS880B Telephone   206.100         5   \n",
      "\n",
      "      Discount    Profit  \n",
      "2          0.0    6.8714  \n",
      "21         0.0    5.0596  \n",
      "22         0.0   15.6884  \n",
      "35         0.2  123.4737  \n",
      "36         0.6 -147.9630  \n",
      "...        ...       ...  \n",
      "9964       0.0    6.4320  \n",
      "9965       0.0    2.3406  \n",
      "9966       0.0   51.5543  \n",
      "9987       0.0   28.7964  \n",
      "9988       0.0   55.6470  \n",
      "\n",
      "[3020 rows x 21 columns]\n",
      "***********************\n",
      "Home Office\n",
      "      Row ID        Order ID Order Date  Ship Date       Ship Mode  \\\n",
      "14        15  US-2017-118983 2017-11-22 2017-11-26  Standard Class   \n",
      "15        16  US-2017-118983 2017-11-22 2017-11-26  Standard Class   \n",
      "34        35  CA-2019-107727 2019-10-19 2019-10-23    Second Class   \n",
      "37        38  CA-2017-117415 2017-12-27 2017-12-31  Standard Class   \n",
      "38        39  CA-2017-117415 2017-12-27 2017-12-31  Standard Class   \n",
      "...      ...             ...        ...        ...             ...   \n",
      "9975    9976  US-2018-103674 2018-12-06 2018-12-10  Standard Class   \n",
      "9976    9977  US-2018-103674 2018-12-06 2018-12-10  Standard Class   \n",
      "9977    9978  US-2018-103674 2018-12-06 2018-12-10  Standard Class   \n",
      "9978    9979  US-2018-103674 2018-12-06 2018-12-10  Standard Class   \n",
      "9979    9980  US-2018-103674 2018-12-06 2018-12-10  Standard Class   \n",
      "\n",
      "     Customer ID  Customer Name      Segment Country/Region         City  ...  \\\n",
      "14      HP-14815  Harold Pawlan  Home Office  United States   Fort Worth  ...   \n",
      "15      HP-14815  Harold Pawlan  Home Office  United States   Fort Worth  ...   \n",
      "34      MA-17560   Matt Abelman  Home Office  United States      Houston  ...   \n",
      "37      SN-20710   Steve Nguyen  Home Office  United States      Houston  ...   \n",
      "38      SN-20710   Steve Nguyen  Home Office  United States      Houston  ...   \n",
      "...          ...            ...          ...            ...          ...  ...   \n",
      "9975    AP-10720     Anne Pryor  Home Office  United States  Los Angeles  ...   \n",
      "9976    AP-10720     Anne Pryor  Home Office  United States  Los Angeles  ...   \n",
      "9977    AP-10720     Anne Pryor  Home Office  United States  Los Angeles  ...   \n",
      "9978    AP-10720     Anne Pryor  Home Office  United States  Los Angeles  ...   \n",
      "9979    AP-10720     Anne Pryor  Home Office  United States  Los Angeles  ...   \n",
      "\n",
      "     Postal Code   Region       Product ID         Category Sub-Category  \\\n",
      "14       76106.0  Central  OFF-AP-10002311  Office Supplies   Appliances   \n",
      "15       76106.0  Central  OFF-BI-10000756  Office Supplies      Binders   \n",
      "34       77095.0  Central  OFF-PA-10000249  Office Supplies        Paper   \n",
      "37       77041.0  Central  OFF-EN-10002986  Office Supplies    Envelopes   \n",
      "38       77041.0  Central  FUR-BO-10002545        Furniture    Bookcases   \n",
      "...          ...      ...              ...              ...          ...   \n",
      "9975     90032.0     West  OFF-PA-10000743  Office Supplies        Paper   \n",
      "9976     90032.0     West  TEC-PH-10002496       Technology       Phones   \n",
      "9977     90032.0     West  OFF-FA-10003467  Office Supplies    Fasteners   \n",
      "9978     90032.0     West  OFF-BI-10003727  Office Supplies      Binders   \n",
      "9979     90032.0     West  OFF-BI-10002026  Office Supplies      Binders   \n",
      "\n",
      "                                           Product Name     Sales  Quantity  \\\n",
      "14    Holmes Replacement Filter for HEPA Air Cleaner...   68.8100         5   \n",
      "15     Storex DuraTech Recycled Plastic Frosted Binders    2.5440         3   \n",
      "34                                    Easy-staple paper   29.4720         3   \n",
      "37    #10-4 1/8\" x 9 1/2\" Premium Diagonal Seam Enve...  113.3280         9   \n",
      "38    Atlantic Metals Mobile 3-Shelf Bookcases, Cust...  532.3992         3   \n",
      "...                                                 ...       ...       ...   \n",
      "9975                                         Xerox 1977   13.3600         2   \n",
      "9976                                       Cisco SPA301  249.5840         2   \n",
      "9977           Alliance Big Bands Rubber Bands, 12/Pack   13.8600         7   \n",
      "9978  Avery Durable Slant Ring Binders With Label Ho...   13.3760         4   \n",
      "9979                  Ibico Recycled Linen-Style Covers  437.4720        14   \n",
      "\n",
      "      Discount    Profit  \n",
      "14        0.80 -123.8580  \n",
      "15        0.80   -3.8160  \n",
      "34        0.20    9.9468  \n",
      "37        0.20   35.4150  \n",
      "38        0.32  -46.9764  \n",
      "...        ...       ...  \n",
      "9975      0.00    6.4128  \n",
      "9976      0.20   31.1980  \n",
      "9977      0.00    0.0000  \n",
      "9978      0.20    4.6816  \n",
      "9979      0.20  153.1152  \n",
      "\n",
      "[1783 rows x 21 columns]\n",
      "***********************\n"
     ]
    }
   ],
   "source": [
    "for i, data in g:\n",
    "    print(i)\n",
    "    print(data)\n",
    "    print(\"***********************\")"
   ]
  },
  {
   "cell_type": "code",
   "execution_count": 45,
   "id": "e71d7e0c",
   "metadata": {},
   "outputs": [
    {
     "data": {
      "text/plain": [
       "array(['Consumer', 'Corporate', 'Home Office'], dtype=object)"
      ]
     },
     "execution_count": 45,
     "metadata": {},
     "output_type": "execute_result"
    }
   ],
   "source": [
    "dataset.Segment.unique()"
   ]
  },
  {
   "cell_type": "code",
   "execution_count": 46,
   "id": "1f415d9b",
   "metadata": {},
   "outputs": [
    {
     "data": {
      "text/html": [
       "<div>\n",
       "<style scoped>\n",
       "    .dataframe tbody tr th:only-of-type {\n",
       "        vertical-align: middle;\n",
       "    }\n",
       "\n",
       "    .dataframe tbody tr th {\n",
       "        vertical-align: top;\n",
       "    }\n",
       "\n",
       "    .dataframe thead th {\n",
       "        text-align: right;\n",
       "    }\n",
       "</style>\n",
       "<table border=\"1\" class=\"dataframe\">\n",
       "  <thead>\n",
       "    <tr style=\"text-align: right;\">\n",
       "      <th></th>\n",
       "      <th>Row ID</th>\n",
       "      <th>Postal Code</th>\n",
       "      <th>Sales</th>\n",
       "      <th>Quantity</th>\n",
       "      <th>Discount</th>\n",
       "      <th>Profit</th>\n",
       "    </tr>\n",
       "  </thead>\n",
       "  <tbody>\n",
       "    <tr>\n",
       "      <th>count</th>\n",
       "      <td>9994.000000</td>\n",
       "      <td>9983.000000</td>\n",
       "      <td>9994.000000</td>\n",
       "      <td>9994.000000</td>\n",
       "      <td>9994.000000</td>\n",
       "      <td>9994.000000</td>\n",
       "    </tr>\n",
       "    <tr>\n",
       "      <th>mean</th>\n",
       "      <td>4997.500000</td>\n",
       "      <td>55245.233297</td>\n",
       "      <td>229.858001</td>\n",
       "      <td>3.789574</td>\n",
       "      <td>0.156203</td>\n",
       "      <td>28.656896</td>\n",
       "    </tr>\n",
       "    <tr>\n",
       "      <th>std</th>\n",
       "      <td>2885.163629</td>\n",
       "      <td>32038.715955</td>\n",
       "      <td>623.245101</td>\n",
       "      <td>2.225110</td>\n",
       "      <td>0.206452</td>\n",
       "      <td>234.260108</td>\n",
       "    </tr>\n",
       "    <tr>\n",
       "      <th>min</th>\n",
       "      <td>1.000000</td>\n",
       "      <td>1040.000000</td>\n",
       "      <td>0.444000</td>\n",
       "      <td>1.000000</td>\n",
       "      <td>0.000000</td>\n",
       "      <td>-6599.978000</td>\n",
       "    </tr>\n",
       "    <tr>\n",
       "      <th>25%</th>\n",
       "      <td>2499.250000</td>\n",
       "      <td>23223.000000</td>\n",
       "      <td>17.280000</td>\n",
       "      <td>2.000000</td>\n",
       "      <td>0.000000</td>\n",
       "      <td>1.728750</td>\n",
       "    </tr>\n",
       "    <tr>\n",
       "      <th>50%</th>\n",
       "      <td>4997.500000</td>\n",
       "      <td>57103.000000</td>\n",
       "      <td>54.490000</td>\n",
       "      <td>3.000000</td>\n",
       "      <td>0.200000</td>\n",
       "      <td>8.666500</td>\n",
       "    </tr>\n",
       "    <tr>\n",
       "      <th>75%</th>\n",
       "      <td>7495.750000</td>\n",
       "      <td>90008.000000</td>\n",
       "      <td>209.940000</td>\n",
       "      <td>5.000000</td>\n",
       "      <td>0.200000</td>\n",
       "      <td>29.364000</td>\n",
       "    </tr>\n",
       "    <tr>\n",
       "      <th>max</th>\n",
       "      <td>9994.000000</td>\n",
       "      <td>99301.000000</td>\n",
       "      <td>22638.480000</td>\n",
       "      <td>14.000000</td>\n",
       "      <td>0.800000</td>\n",
       "      <td>8399.976000</td>\n",
       "    </tr>\n",
       "  </tbody>\n",
       "</table>\n",
       "</div>"
      ],
      "text/plain": [
       "            Row ID   Postal Code         Sales     Quantity     Discount  \\\n",
       "count  9994.000000   9983.000000   9994.000000  9994.000000  9994.000000   \n",
       "mean   4997.500000  55245.233297    229.858001     3.789574     0.156203   \n",
       "std    2885.163629  32038.715955    623.245101     2.225110     0.206452   \n",
       "min       1.000000   1040.000000      0.444000     1.000000     0.000000   \n",
       "25%    2499.250000  23223.000000     17.280000     2.000000     0.000000   \n",
       "50%    4997.500000  57103.000000     54.490000     3.000000     0.200000   \n",
       "75%    7495.750000  90008.000000    209.940000     5.000000     0.200000   \n",
       "max    9994.000000  99301.000000  22638.480000    14.000000     0.800000   \n",
       "\n",
       "            Profit  \n",
       "count  9994.000000  \n",
       "mean     28.656896  \n",
       "std     234.260108  \n",
       "min   -6599.978000  \n",
       "25%       1.728750  \n",
       "50%       8.666500  \n",
       "75%      29.364000  \n",
       "max    8399.976000  "
      ]
     },
     "execution_count": 46,
     "metadata": {},
     "output_type": "execute_result"
    }
   ],
   "source": [
    "dataset.describe()"
   ]
  },
  {
   "cell_type": "code",
   "execution_count": null,
   "id": "877fc999",
   "metadata": {},
   "outputs": [],
   "source": []
  }
 ],
 "metadata": {
  "kernelspec": {
   "display_name": "Python (cvenv)",
   "language": "python",
   "name": "cvenv"
  },
  "language_info": {
   "codemirror_mode": {
    "name": "ipython",
    "version": 3
   },
   "file_extension": ".py",
   "mimetype": "text/x-python",
   "name": "python",
   "nbconvert_exporter": "python",
   "pygments_lexer": "ipython3",
   "version": "3.6.13"
  }
 },
 "nbformat": 4,
 "nbformat_minor": 5
}
